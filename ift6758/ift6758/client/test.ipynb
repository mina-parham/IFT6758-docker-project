{
 "cells": [
  {
   "attachments": {},
   "cell_type": "markdown",
   "metadata": {},
   "source": [
    "at first make sure to run app.py. In this regard you should go to the app.py repository and run \"flask run\" command in your terminal. If you install all the requirment correctly, you should see in your command line that the flask is running in this server: Running on http://127.0.0.1:5000\n",
    "The server and the port should be the same otherwise you should change the code below."
   ]
  },
  {
   "cell_type": "code",
   "execution_count": 262,
   "metadata": {},
   "outputs": [],
   "source": [
    "from serving_client import ServingClient\n"
   ]
  },
  {
   "cell_type": "code",
   "execution_count": 263,
   "metadata": {},
   "outputs": [],
   "source": [
    "from game_client import GameClient"
   ]
  },
  {
   "cell_type": "code",
   "execution_count": 264,
   "metadata": {},
   "outputs": [],
   "source": [
    "gc = GameClient()"
   ]
  },
  {
   "cell_type": "code",
   "execution_count": 265,
   "metadata": {},
   "outputs": [],
   "source": [
    "#get data"
   ]
  },
  {
   "cell_type": "code",
   "execution_count": 266,
   "metadata": {},
   "outputs": [],
   "source": [
    "df = gc.ping_game(2022020323)"
   ]
  },
  {
   "cell_type": "code",
   "execution_count": 267,
   "metadata": {},
   "outputs": [],
   "source": [
    "#predict"
   ]
  },
  {
   "cell_type": "code",
   "execution_count": 268,
   "metadata": {},
   "outputs": [
    {
     "data": {
      "text/html": [
       "<div>\n",
       "<style scoped>\n",
       "    .dataframe tbody tr th:only-of-type {\n",
       "        vertical-align: middle;\n",
       "    }\n",
       "\n",
       "    .dataframe tbody tr th {\n",
       "        vertical-align: top;\n",
       "    }\n",
       "\n",
       "    .dataframe thead th {\n",
       "        text-align: right;\n",
       "    }\n",
       "</style>\n",
       "<table border=\"1\" class=\"dataframe\">\n",
       "  <thead>\n",
       "    <tr style=\"text-align: right;\">\n",
       "      <th></th>\n",
       "      <th>event_idx</th>\n",
       "      <th>period_time</th>\n",
       "      <th>period</th>\n",
       "      <th>game_id</th>\n",
       "      <th>team_away_name</th>\n",
       "      <th>team_home_name</th>\n",
       "      <th>is_goal</th>\n",
       "      <th>coordinate_x</th>\n",
       "      <th>coordinate_y</th>\n",
       "      <th>shot_type</th>\n",
       "      <th>...</th>\n",
       "      <th>number_friendly</th>\n",
       "      <th>number_opposing</th>\n",
       "      <th>power_play</th>\n",
       "      <th>distance</th>\n",
       "      <th>from_last_distance</th>\n",
       "      <th>angle</th>\n",
       "      <th>last_angle</th>\n",
       "      <th>time_from_last</th>\n",
       "      <th>change_angle</th>\n",
       "      <th>speed</th>\n",
       "    </tr>\n",
       "  </thead>\n",
       "  <tbody>\n",
       "    <tr>\n",
       "      <th>0</th>\n",
       "      <td>23</td>\n",
       "      <td>02:38</td>\n",
       "      <td>1</td>\n",
       "      <td>2022020323</td>\n",
       "      <td>Ottawa Senators</td>\n",
       "      <td>Anaheim Ducks</td>\n",
       "      <td>0</td>\n",
       "      <td>64.0</td>\n",
       "      <td>-29.0</td>\n",
       "      <td>1</td>\n",
       "      <td>...</td>\n",
       "      <td>5</td>\n",
       "      <td>4</td>\n",
       "      <td>89</td>\n",
       "      <td>38.2884</td>\n",
       "      <td>67.268120</td>\n",
       "      <td>0.8593</td>\n",
       "      <td>1.2572</td>\n",
       "      <td>38</td>\n",
       "      <td>0</td>\n",
       "      <td>0</td>\n",
       "    </tr>\n",
       "    <tr>\n",
       "      <th>1</th>\n",
       "      <td>24</td>\n",
       "      <td>02:57</td>\n",
       "      <td>1</td>\n",
       "      <td>2022020323</td>\n",
       "      <td>Ottawa Senators</td>\n",
       "      <td>Anaheim Ducks</td>\n",
       "      <td>0</td>\n",
       "      <td>72.0</td>\n",
       "      <td>-7.0</td>\n",
       "      <td>5</td>\n",
       "      <td>...</td>\n",
       "      <td>5</td>\n",
       "      <td>4</td>\n",
       "      <td>108</td>\n",
       "      <td>18.3848</td>\n",
       "      <td>23.409400</td>\n",
       "      <td>0.3906</td>\n",
       "      <td>0.8593</td>\n",
       "      <td>57</td>\n",
       "      <td>0</td>\n",
       "      <td>0</td>\n",
       "    </tr>\n",
       "    <tr>\n",
       "      <th>2</th>\n",
       "      <td>25</td>\n",
       "      <td>03:11</td>\n",
       "      <td>1</td>\n",
       "      <td>2022020323</td>\n",
       "      <td>Ottawa Senators</td>\n",
       "      <td>Anaheim Ducks</td>\n",
       "      <td>0</td>\n",
       "      <td>39.0</td>\n",
       "      <td>31.0</td>\n",
       "      <td>5</td>\n",
       "      <td>...</td>\n",
       "      <td>5</td>\n",
       "      <td>5</td>\n",
       "      <td>0</td>\n",
       "      <td>58.8303</td>\n",
       "      <td>50.328918</td>\n",
       "      <td>0.5550</td>\n",
       "      <td>0.3906</td>\n",
       "      <td>71</td>\n",
       "      <td>0</td>\n",
       "      <td>0</td>\n",
       "    </tr>\n",
       "    <tr>\n",
       "      <th>3</th>\n",
       "      <td>26</td>\n",
       "      <td>03:39</td>\n",
       "      <td>1</td>\n",
       "      <td>2022020323</td>\n",
       "      <td>Ottawa Senators</td>\n",
       "      <td>Anaheim Ducks</td>\n",
       "      <td>0</td>\n",
       "      <td>46.0</td>\n",
       "      <td>28.0</td>\n",
       "      <td>5</td>\n",
       "      <td>...</td>\n",
       "      <td>5</td>\n",
       "      <td>5</td>\n",
       "      <td>0</td>\n",
       "      <td>51.3128</td>\n",
       "      <td>7.615773</td>\n",
       "      <td>0.5772</td>\n",
       "      <td>0.5550</td>\n",
       "      <td>39</td>\n",
       "      <td>0</td>\n",
       "      <td>0</td>\n",
       "    </tr>\n",
       "    <tr>\n",
       "      <th>4</th>\n",
       "      <td>44</td>\n",
       "      <td>06:45</td>\n",
       "      <td>1</td>\n",
       "      <td>2022020323</td>\n",
       "      <td>Ottawa Senators</td>\n",
       "      <td>Anaheim Ducks</td>\n",
       "      <td>0</td>\n",
       "      <td>-66.0</td>\n",
       "      <td>-30.0</td>\n",
       "      <td>2</td>\n",
       "      <td>...</td>\n",
       "      <td>5</td>\n",
       "      <td>5</td>\n",
       "      <td>0</td>\n",
       "      <td>37.8021</td>\n",
       "      <td>135.236829</td>\n",
       "      <td>0.9167</td>\n",
       "      <td>0.8330</td>\n",
       "      <td>45</td>\n",
       "      <td>0</td>\n",
       "      <td>0</td>\n",
       "    </tr>\n",
       "  </tbody>\n",
       "</table>\n",
       "<p>5 rows × 32 columns</p>\n",
       "</div>"
      ],
      "text/plain": [
       "  event_idx period_time period     game_id   team_away_name team_home_name  \\\n",
       "0        23       02:38      1  2022020323  Ottawa Senators  Anaheim Ducks   \n",
       "1        24       02:57      1  2022020323  Ottawa Senators  Anaheim Ducks   \n",
       "2        25       03:11      1  2022020323  Ottawa Senators  Anaheim Ducks   \n",
       "3        26       03:39      1  2022020323  Ottawa Senators  Anaheim Ducks   \n",
       "4        44       06:45      1  2022020323  Ottawa Senators  Anaheim Ducks   \n",
       "\n",
       "   is_goal  coordinate_x  coordinate_y  shot_type  ... number_friendly  \\\n",
       "0        0          64.0         -29.0          1  ...               5   \n",
       "1        0          72.0          -7.0          5  ...               5   \n",
       "2        0          39.0          31.0          5  ...               5   \n",
       "3        0          46.0          28.0          5  ...               5   \n",
       "4        0         -66.0         -30.0          2  ...               5   \n",
       "\n",
       "  number_opposing power_play  distance from_last_distance   angle  last_angle  \\\n",
       "0               4         89   38.2884          67.268120  0.8593      1.2572   \n",
       "1               4        108   18.3848          23.409400  0.3906      0.8593   \n",
       "2               5          0   58.8303          50.328918  0.5550      0.3906   \n",
       "3               5          0   51.3128           7.615773  0.5772      0.5550   \n",
       "4               5          0   37.8021         135.236829  0.9167      0.8330   \n",
       "\n",
       "   time_from_last  change_angle speed  \n",
       "0              38             0     0  \n",
       "1              57             0     0  \n",
       "2              71             0     0  \n",
       "3              39             0     0  \n",
       "4              45             0     0  \n",
       "\n",
       "[5 rows x 32 columns]"
      ]
     },
     "execution_count": 268,
     "metadata": {},
     "output_type": "execute_result"
    }
   ],
   "source": [
    "df.head()"
   ]
  },
  {
   "cell_type": "code",
   "execution_count": 269,
   "metadata": {},
   "outputs": [],
   "source": [
    "# from serving_clinet import ServingClient"
   ]
  },
  {
   "cell_type": "code",
   "execution_count": 270,
   "metadata": {},
   "outputs": [],
   "source": [
    "sc= ServingClient()"
   ]
  },
  {
   "cell_type": "code",
   "execution_count": 271,
   "metadata": {},
   "outputs": [
    {
     "data": {
      "text/plain": [
       "'model_5_2.pickle'"
      ]
     },
     "execution_count": 271,
     "metadata": {},
     "output_type": "execute_result"
    }
   ],
   "source": [
    "sc.download_registry_model(workspace='ift-6758-2', model='xgb-model-5-2-pickle', version='1.0.0', model_name='model_5_2.pickle')\n"
   ]
  },
  {
   "cell_type": "code",
   "execution_count": 272,
   "metadata": {},
   "outputs": [],
   "source": [
    "d = sc.predict(df)"
   ]
  },
  {
   "cell_type": "code",
   "execution_count": 273,
   "metadata": {},
   "outputs": [
    {
     "name": "stdout",
     "output_type": "stream",
     "text": [
      "[0.11344169080257416, 0.11385823041200638, 0.01134471595287323, 0.014089926145970821, 0.03645966202020645, 0.08605697751045227, 0.13325197994709015, 0.01674901507794857, 0.011195152066648006, 0.0445728674530983, 0.106532983481884, 0.14451998472213745, 0.03590341657400131, 0.12089139968156815, 0.04576929286122322, 0.16789552569389343, 0.020967621356248856, 0.01727023907005787, 0.16990028321743011, 0.09372556209564209, 0.2586909532546997, 0.1258142739534378, 0.09846320003271103, 0.16328299045562744, 0.015934152528643608, 0.028903089463710785, 0.10588010400533676, 0.15201084315776825, 0.07989291846752167, 0.14780405163764954, 0.11236900836229324, 0.03289693966507912, 0.21448811888694763, 0.16163036227226257, 0.1199759915471077, 0.008039368316531181, 0.08849029242992401, 0.12147155404090881, 0.15845122933387756, 0.043525826185941696, 0.03949134424328804, 0.04901617020368576, 0.017767254263162613, 0.05603015422821045, 0.06276930123567581, 0.07922637462615967, 0.1918400228023529, 0.1881704181432724, 0.2043139934539795, 0.16089963912963867, 0.25404495000839233, 0.2553400993347168, 0.027056420221924782, 0.12529659271240234, 0.05145784094929695, 0.11421801894903183, 0.17101642489433289, 0.22949756681919098, 0.47352054715156555, 0.06970835477113724, 0.07862813025712967, 0.04684402048587799, 0.09930821508169174, 0.18369963765144348, 0.024828437715768814]\n"
     ]
    }
   ],
   "source": [
    "print(d)"
   ]
  },
  {
   "cell_type": "code",
   "execution_count": null,
   "metadata": {},
   "outputs": [],
   "source": []
  },
  {
   "cell_type": "code",
   "execution_count": null,
   "metadata": {},
   "outputs": [],
   "source": []
  }
 ],
 "metadata": {
  "kernelspec": {
   "display_name": "ift6758-venv",
   "language": "python",
   "name": "python3"
  },
  "language_info": {
   "codemirror_mode": {
    "name": "ipython",
    "version": 3
   },
   "file_extension": ".py",
   "mimetype": "text/x-python",
   "name": "python",
   "nbconvert_exporter": "python",
   "pygments_lexer": "ipython3",
   "version": "3.7.13"
  },
  "orig_nbformat": 4,
  "vscode": {
   "interpreter": {
    "hash": "812c7e5bd071627df913c0fa0af5e708bf2320db34fc5a4bdd4da81b0c03a92e"
   }
  }
 },
 "nbformat": 4,
 "nbformat_minor": 2
}
