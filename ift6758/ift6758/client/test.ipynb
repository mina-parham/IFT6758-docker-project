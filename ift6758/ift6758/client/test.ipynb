{
 "cells": [
  {
   "attachments": {},
   "cell_type": "markdown",
   "metadata": {},
   "source": [
    "at first make sure to run app.py. In this regard you should go to the app.py repository and run \"flask run\" command in your terminal. If you install all the requirment correctly, you should see in your command line that the flask is running in this server: Running on http://127.0.0.1:5000\n",
    "The server and the port should be the same otherwise you should change the code below."
   ]
  },
  {
   "cell_type": "code",
   "execution_count": 225,
   "metadata": {},
   "outputs": [],
   "source": [
    "from serving_client import ServingClient\n"
   ]
  },
  {
   "cell_type": "code",
   "execution_count": 226,
   "metadata": {},
   "outputs": [],
   "source": [
    "from game_client import GameClient"
   ]
  },
  {
   "cell_type": "code",
   "execution_count": 227,
   "metadata": {},
   "outputs": [],
   "source": [
    "gc = GameClient()"
   ]
  },
  {
   "cell_type": "code",
   "execution_count": 228,
   "metadata": {},
   "outputs": [],
   "source": [
    "#get data"
   ]
  },
  {
   "cell_type": "code",
   "execution_count": 229,
   "metadata": {},
   "outputs": [],
   "source": [
    "df = gc.ping_game(2021020329)"
   ]
  },
  {
   "cell_type": "code",
   "execution_count": 230,
   "metadata": {},
   "outputs": [],
   "source": [
    "#predict"
   ]
  },
  {
   "cell_type": "code",
   "execution_count": 231,
   "metadata": {},
   "outputs": [
    {
     "data": {
      "text/html": [
       "<div>\n",
       "<style scoped>\n",
       "    .dataframe tbody tr th:only-of-type {\n",
       "        vertical-align: middle;\n",
       "    }\n",
       "\n",
       "    .dataframe tbody tr th {\n",
       "        vertical-align: top;\n",
       "    }\n",
       "\n",
       "    .dataframe thead th {\n",
       "        text-align: right;\n",
       "    }\n",
       "</style>\n",
       "<table border=\"1\" class=\"dataframe\">\n",
       "  <thead>\n",
       "    <tr style=\"text-align: right;\">\n",
       "      <th></th>\n",
       "      <th>event_idx</th>\n",
       "      <th>period_time</th>\n",
       "      <th>period</th>\n",
       "      <th>game_id</th>\n",
       "      <th>team_away_name</th>\n",
       "      <th>team_home_name</th>\n",
       "      <th>is_goal</th>\n",
       "      <th>coordinate_x</th>\n",
       "      <th>coordinate_y</th>\n",
       "      <th>shot_type</th>\n",
       "      <th>...</th>\n",
       "      <th>number_friendly</th>\n",
       "      <th>number_opposing</th>\n",
       "      <th>power_play</th>\n",
       "      <th>distance</th>\n",
       "      <th>from_last_distance</th>\n",
       "      <th>angle</th>\n",
       "      <th>last_angle</th>\n",
       "      <th>time_from_last</th>\n",
       "      <th>change_angle</th>\n",
       "      <th>speed</th>\n",
       "    </tr>\n",
       "  </thead>\n",
       "  <tbody>\n",
       "    <tr>\n",
       "      <th>0</th>\n",
       "      <td>8</td>\n",
       "      <td>01:02</td>\n",
       "      <td>1</td>\n",
       "      <td>2021020329</td>\n",
       "      <td>Washington Capitals</td>\n",
       "      <td>Carolina Hurricanes</td>\n",
       "      <td>0</td>\n",
       "      <td>56.0</td>\n",
       "      <td>17.0</td>\n",
       "      <td>3</td>\n",
       "      <td>...</td>\n",
       "      <td>5</td>\n",
       "      <td>5</td>\n",
       "      <td>0</td>\n",
       "      <td>37.1214</td>\n",
       "      <td>132.242202</td>\n",
       "      <td>0.4757</td>\n",
       "      <td>0.6055</td>\n",
       "      <td>62</td>\n",
       "      <td>0</td>\n",
       "      <td>0</td>\n",
       "    </tr>\n",
       "    <tr>\n",
       "      <th>1</th>\n",
       "      <td>15</td>\n",
       "      <td>01:50</td>\n",
       "      <td>1</td>\n",
       "      <td>2021020329</td>\n",
       "      <td>Washington Capitals</td>\n",
       "      <td>Carolina Hurricanes</td>\n",
       "      <td>0</td>\n",
       "      <td>-65.0</td>\n",
       "      <td>-10.0</td>\n",
       "      <td>3</td>\n",
       "      <td>...</td>\n",
       "      <td>5</td>\n",
       "      <td>5</td>\n",
       "      <td>0</td>\n",
       "      <td>26.0000</td>\n",
       "      <td>164.195006</td>\n",
       "      <td>0.3948</td>\n",
       "      <td>0.1974</td>\n",
       "      <td>50</td>\n",
       "      <td>0</td>\n",
       "      <td>0</td>\n",
       "    </tr>\n",
       "    <tr>\n",
       "      <th>2</th>\n",
       "      <td>20</td>\n",
       "      <td>02:50</td>\n",
       "      <td>1</td>\n",
       "      <td>2021020329</td>\n",
       "      <td>Washington Capitals</td>\n",
       "      <td>Carolina Hurricanes</td>\n",
       "      <td>0</td>\n",
       "      <td>78.0</td>\n",
       "      <td>16.0</td>\n",
       "      <td>3</td>\n",
       "      <td>...</td>\n",
       "      <td>5</td>\n",
       "      <td>5</td>\n",
       "      <td>0</td>\n",
       "      <td>19.4165</td>\n",
       "      <td>174.040225</td>\n",
       "      <td>0.9685</td>\n",
       "      <td>0.4636</td>\n",
       "      <td>50</td>\n",
       "      <td>0</td>\n",
       "      <td>0</td>\n",
       "    </tr>\n",
       "    <tr>\n",
       "      <th>3</th>\n",
       "      <td>22</td>\n",
       "      <td>03:22</td>\n",
       "      <td>1</td>\n",
       "      <td>2021020329</td>\n",
       "      <td>Washington Capitals</td>\n",
       "      <td>Carolina Hurricanes</td>\n",
       "      <td>0</td>\n",
       "      <td>84.0</td>\n",
       "      <td>-36.0</td>\n",
       "      <td>3</td>\n",
       "      <td>...</td>\n",
       "      <td>5</td>\n",
       "      <td>5</td>\n",
       "      <td>0</td>\n",
       "      <td>36.3456</td>\n",
       "      <td>119.037809</td>\n",
       "      <td>1.4328</td>\n",
       "      <td>0.4096</td>\n",
       "      <td>22</td>\n",
       "      <td>0</td>\n",
       "      <td>0</td>\n",
       "    </tr>\n",
       "    <tr>\n",
       "      <th>4</th>\n",
       "      <td>26</td>\n",
       "      <td>04:09</td>\n",
       "      <td>1</td>\n",
       "      <td>2021020329</td>\n",
       "      <td>Washington Capitals</td>\n",
       "      <td>Carolina Hurricanes</td>\n",
       "      <td>0</td>\n",
       "      <td>-39.0</td>\n",
       "      <td>8.0</td>\n",
       "      <td>3</td>\n",
       "      <td>...</td>\n",
       "      <td>5</td>\n",
       "      <td>5</td>\n",
       "      <td>0</td>\n",
       "      <td>50.6360</td>\n",
       "      <td>52.086467</td>\n",
       "      <td>0.1587</td>\n",
       "      <td>0.0657</td>\n",
       "      <td>9</td>\n",
       "      <td>0</td>\n",
       "      <td>0</td>\n",
       "    </tr>\n",
       "  </tbody>\n",
       "</table>\n",
       "<p>5 rows × 32 columns</p>\n",
       "</div>"
      ],
      "text/plain": [
       "  event_idx period_time period     game_id       team_away_name  \\\n",
       "0         8       01:02      1  2021020329  Washington Capitals   \n",
       "1        15       01:50      1  2021020329  Washington Capitals   \n",
       "2        20       02:50      1  2021020329  Washington Capitals   \n",
       "3        22       03:22      1  2021020329  Washington Capitals   \n",
       "4        26       04:09      1  2021020329  Washington Capitals   \n",
       "\n",
       "        team_home_name  is_goal  coordinate_x  coordinate_y  shot_type  ...  \\\n",
       "0  Carolina Hurricanes        0          56.0          17.0          3  ...   \n",
       "1  Carolina Hurricanes        0         -65.0         -10.0          3  ...   \n",
       "2  Carolina Hurricanes        0          78.0          16.0          3  ...   \n",
       "3  Carolina Hurricanes        0          84.0         -36.0          3  ...   \n",
       "4  Carolina Hurricanes        0         -39.0           8.0          3  ...   \n",
       "\n",
       "  number_friendly number_opposing power_play  distance from_last_distance  \\\n",
       "0               5               5          0   37.1214         132.242202   \n",
       "1               5               5          0   26.0000         164.195006   \n",
       "2               5               5          0   19.4165         174.040225   \n",
       "3               5               5          0   36.3456         119.037809   \n",
       "4               5               5          0   50.6360          52.086467   \n",
       "\n",
       "    angle  last_angle  time_from_last  change_angle speed  \n",
       "0  0.4757      0.6055              62             0     0  \n",
       "1  0.3948      0.1974              50             0     0  \n",
       "2  0.9685      0.4636              50             0     0  \n",
       "3  1.4328      0.4096              22             0     0  \n",
       "4  0.1587      0.0657               9             0     0  \n",
       "\n",
       "[5 rows x 32 columns]"
      ]
     },
     "execution_count": 231,
     "metadata": {},
     "output_type": "execute_result"
    }
   ],
   "source": [
    "df.head()"
   ]
  },
  {
   "cell_type": "code",
   "execution_count": 232,
   "metadata": {},
   "outputs": [],
   "source": [
    "# from serving_clinet import ServingClient"
   ]
  },
  {
   "cell_type": "code",
   "execution_count": 233,
   "metadata": {},
   "outputs": [],
   "source": [
    "sc= ServingClient()"
   ]
  },
  {
   "cell_type": "code",
   "execution_count": null,
   "metadata": {},
   "outputs": [],
   "source": [
    "sc.download_registry_model(workspace='ift-6758-2', model='xgb-model-5-2-pickle', version='1.0.0', model_name='model_5_2.pickle')\n"
   ]
  },
  {
   "cell_type": "code",
   "execution_count": 234,
   "metadata": {},
   "outputs": [],
   "source": [
    "d = sc.predict(df)"
   ]
  },
  {
   "cell_type": "code",
   "execution_count": 236,
   "metadata": {},
   "outputs": [
    {
     "name": "stdout",
     "output_type": "stream",
     "text": [
      "[0.06735081225633621, 0.12227530032396317, 0.08174610882997513, 0.01332146767526865, 0.038343533873558044, 0.03103095293045044, 0.10493196547031403, 0.05227162316441536, 0.03392519801855087, 0.023132218047976494, 0.04933655261993408, 0.13333314657211304, 0.10324325412511826, 0.07461082190275192, 0.1613648384809494, 0.03598449006676674, 0.10768966376781464, 0.3188353478908539, 0.2216767966747284, 0.058191072195768356, 0.07535067200660706, 0.04169190302491188, 0.05211637169122696, 0.05115203931927681, 0.1217765212059021, 0.02481934055685997, 0.021888038143515587, 0.008695073425769806, 0.15332657098770142, 0.013413702137768269, 0.021550405770540237, 0.0332912839949131, 0.14549066126346588, 0.07847990840673447, 0.05242672562599182, 0.048873480409383774, 0.03594822809100151, 0.05742679163813591, 0.057619594037532806, 0.06670094281435013, 0.11033108085393906, 0.18911926448345184, 0.034285105764865875, 0.24434103071689606, 0.2373214215040207, 0.0668848305940628, 0.17118026316165924, 0.043189454823732376, 0.2588990330696106, 0.1443011313676834, 0.2090190052986145, 0.21264131367206573, 0.1495143473148346, 0.11765311658382416, 0.21920937299728394, 0.09399691969156265, 0.10117733478546143]\n"
     ]
    }
   ],
   "source": [
    "print(d)"
   ]
  }
 ],
 "metadata": {
  "kernelspec": {
   "display_name": "ift6758-venv",
   "language": "python",
   "name": "python3"
  },
  "language_info": {
   "codemirror_mode": {
    "name": "ipython",
    "version": 3
   },
   "file_extension": ".py",
   "mimetype": "text/x-python",
   "name": "python",
   "nbconvert_exporter": "python",
   "pygments_lexer": "ipython3",
   "version": "3.7.13"
  },
  "orig_nbformat": 4,
  "vscode": {
   "interpreter": {
    "hash": "812c7e5bd071627df913c0fa0af5e708bf2320db34fc5a4bdd4da81b0c03a92e"
   }
  }
 },
 "nbformat": 4,
 "nbformat_minor": 2
}
